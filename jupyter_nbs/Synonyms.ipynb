{
 "cells": [
  {
   "cell_type": "code",
   "execution_count": 15,
   "metadata": {},
   "outputs": [],
   "source": [
    "from sklearn.neighbors import NearestNeighbors\n",
    "from sklearn.preprocessing import normalize\n",
    "import numpy as np\n",
    "import pandas as pd\n",
    "import json\n",
    "import sys"
   ]
  },
  {
   "cell_type": "code",
   "execution_count": 16,
   "metadata": {},
   "outputs": [],
   "source": [
    "sys.path.insert(1, '../cached_embeds/')"
   ]
  },
  {
   "cell_type": "markdown",
   "metadata": {},
   "source": [
    "## Load Data"
   ]
  },
  {
   "cell_type": "code",
   "execution_count": 17,
   "metadata": {},
   "outputs": [],
   "source": [
    "PATH_TO_TOPIC_EBD = 'huffpost_oracle_embed_idf.json'\n",
    "PATH_TO_WIKI_EBD = 'ebd_cache.json'"
   ]
  },
  {
   "cell_type": "code",
   "execution_count": 18,
   "metadata": {},
   "outputs": [],
   "source": [
    "# classes = [\n",
    "#     'mideast', 'space', 'sale', 'politics', 'graphics',\n",
    "#     'cryptography', 'windows', 'microsoft', 'guns',\n",
    "#     'religion', 'autos', 'medicine', 'mac', 'electronics',\n",
    "#     'hockey', 'atheism', 'motorcycles', 'pc', 'baseball', 'christian'\n",
    "# ]\n",
    "\n",
    "classes = [\n",
    "    'politics', 'wellness', 'entertainment', 'travel', 'beauty', 'parenting', 'healthy', 'queer',\n",
    "    'food', 'business', 'comedy', 'sports', 'black', 'home', 'parents', 'the worldpost',\n",
    "    'weddings', 'women', 'impact', 'divorce', 'crime', 'media', 'weird', 'green', 'worldpost', 'religion',\n",
    "    'style', 'science', 'worldnews', 'taste', 'tech', 'money', 'arts', 'fifty', 'goodnews', 'arts & culture',\n",
    "    'environment', 'college', 'latino', 'culture & arts', 'education'\n",
    "]"
   ]
  },
  {
   "cell_type": "code",
   "execution_count": 19,
   "metadata": {},
   "outputs": [],
   "source": [
    "# Get topic or oracle embeddings\n",
    "with open('../cached_embeds/{}'.format(PATH_TO_TOPIC_EBD)) as json_file:\n",
    "    topics = json.load(json_file)"
   ]
  },
  {
   "cell_type": "code",
   "execution_count": 20,
   "metadata": {},
   "outputs": [],
   "source": [
    "# Get embedding cache\n",
    "with open('../{}'.format(PATH_TO_WIKI_EBD)) as json_file:\n",
    "    # {(str): list of float}\n",
    "    mappings = json.load(json_file)"
   ]
  },
  {
   "cell_type": "code",
   "execution_count": 37,
   "metadata": {},
   "outputs": [],
   "source": [
    "# Cache topic embeddings if necessary\n",
    "dest = '../cached_embeds/huffpost_topic_embed_.json'\n",
    "cache = dict(zip(range(len(classes)), [mappings[topic] for topic in classes]))\n",
    "with open(dest, 'w') as fp:\n",
    "    json.dump(cache, fp)"
   ]
  },
  {
   "cell_type": "code",
   "execution_count": 21,
   "metadata": {},
   "outputs": [],
   "source": [
    "# Reformat into two lists containing word and corresponding embedding\n",
    "ordered_words = list(mappings.keys())\n",
    "ordered_embs = [mappings[word] for word in ordered_words]"
   ]
  },
  {
   "cell_type": "code",
   "execution_count": 22,
   "metadata": {},
   "outputs": [],
   "source": [
    "# Normalize\n",
    "ordered_embs = normalize(ordered_embs, norm='l2', axis=1, copy=True, return_norm=False)"
   ]
  },
  {
   "cell_type": "code",
   "execution_count": 23,
   "metadata": {},
   "outputs": [],
   "source": [
    "ordered_top_embs = [topics[str(int(key))] for key in range(len(classes))]\n",
    "ordered_top_embs = normalize(ordered_top_embs, norm='l2', axis=1, copy=True, return_norm=False)"
   ]
  },
  {
   "cell_type": "markdown",
   "metadata": {},
   "source": [
    "## Nearest Neighbors"
   ]
  },
  {
   "cell_type": "code",
   "execution_count": 26,
   "metadata": {},
   "outputs": [],
   "source": [
    "def synonyms(classes, global_embs, class_embs):\n",
    "    \"\"\"\n",
    "    Returns closest synonyms for classes.\n",
    "    \n",
    "    Args:\n",
    "        classes: list of str of query words\n",
    "        \n",
    "    Returns:\n",
    "        dict: {query word (str): [synonyms (strs)]}\n",
    "    \"\"\"\n",
    "    X = np.array(global_embs)\n",
    "    nbrs = NearestNeighbors(n_neighbors=5, algorithm='ball_tree').fit(X)\n",
    "    _, indices = nbrs.kneighbors(class_embs)\n",
    "    \n",
    "    synonyms = {}\n",
    "    for i, ind in enumerate(indices):\n",
    "        synonyms[classes[i]] = [ordered_words[j] for j in ind]\n",
    "        \n",
    "    return synonyms"
   ]
  },
  {
   "cell_type": "code",
   "execution_count": 27,
   "metadata": {
    "scrolled": false
   },
   "outputs": [
    {
     "ename": "KeyboardInterrupt",
     "evalue": "",
     "output_type": "error",
     "traceback": [
      "\u001b[0;31m---------------------------------------------------------------------------\u001b[0m",
      "\u001b[0;31mKeyboardInterrupt\u001b[0m                         Traceback (most recent call last)",
      "\u001b[0;32m<ipython-input-27-09d065b2d912>\u001b[0m in \u001b[0;36m<module>\u001b[0;34m\u001b[0m\n\u001b[0;32m----> 1\u001b[0;31m \u001b[0msyn_dict\u001b[0m \u001b[0;34m=\u001b[0m \u001b[0msynonyms\u001b[0m\u001b[0;34m(\u001b[0m\u001b[0mclasses\u001b[0m\u001b[0;34m,\u001b[0m \u001b[0mordered_embs\u001b[0m\u001b[0;34m,\u001b[0m \u001b[0mordered_top_embs\u001b[0m\u001b[0;34m)\u001b[0m\u001b[0;34m\u001b[0m\u001b[0;34m\u001b[0m\u001b[0m\n\u001b[0m\u001b[1;32m      2\u001b[0m \u001b[0mpd\u001b[0m\u001b[0;34m.\u001b[0m\u001b[0mDataFrame\u001b[0m\u001b[0;34m(\u001b[0m\u001b[0msyn_dict\u001b[0m\u001b[0;34m)\u001b[0m\u001b[0;34m\u001b[0m\u001b[0;34m\u001b[0m\u001b[0m\n",
      "\u001b[0;32m<ipython-input-26-9811f9436d02>\u001b[0m in \u001b[0;36msynonyms\u001b[0;34m(classes, global_embs, class_embs)\u001b[0m\n\u001b[1;32m     10\u001b[0m     \"\"\"\n\u001b[1;32m     11\u001b[0m     \u001b[0mX\u001b[0m \u001b[0;34m=\u001b[0m \u001b[0mnp\u001b[0m\u001b[0;34m.\u001b[0m\u001b[0marray\u001b[0m\u001b[0;34m(\u001b[0m\u001b[0mglobal_embs\u001b[0m\u001b[0;34m)\u001b[0m\u001b[0;34m\u001b[0m\u001b[0;34m\u001b[0m\u001b[0m\n\u001b[0;32m---> 12\u001b[0;31m     \u001b[0mnbrs\u001b[0m \u001b[0;34m=\u001b[0m \u001b[0mNearestNeighbors\u001b[0m\u001b[0;34m(\u001b[0m\u001b[0mn_neighbors\u001b[0m\u001b[0;34m=\u001b[0m\u001b[0;36m5\u001b[0m\u001b[0;34m,\u001b[0m \u001b[0malgorithm\u001b[0m\u001b[0;34m=\u001b[0m\u001b[0;34m'ball_tree'\u001b[0m\u001b[0;34m)\u001b[0m\u001b[0;34m.\u001b[0m\u001b[0mfit\u001b[0m\u001b[0;34m(\u001b[0m\u001b[0mX\u001b[0m\u001b[0;34m)\u001b[0m\u001b[0;34m\u001b[0m\u001b[0;34m\u001b[0m\u001b[0m\n\u001b[0m\u001b[1;32m     13\u001b[0m     \u001b[0m_\u001b[0m\u001b[0;34m,\u001b[0m \u001b[0mindices\u001b[0m \u001b[0;34m=\u001b[0m \u001b[0mnbrs\u001b[0m\u001b[0;34m.\u001b[0m\u001b[0mkneighbors\u001b[0m\u001b[0;34m(\u001b[0m\u001b[0mclass_embs\u001b[0m\u001b[0;34m)\u001b[0m\u001b[0;34m\u001b[0m\u001b[0;34m\u001b[0m\u001b[0m\n\u001b[1;32m     14\u001b[0m \u001b[0;34m\u001b[0m\u001b[0m\n",
      "\u001b[0;32m/data/rsg/nlp/rmwu/miniconda3/envs/py37/lib/python3.7/site-packages/sklearn/neighbors/base.py\u001b[0m in \u001b[0;36mfit\u001b[0;34m(self, X, y)\u001b[0m\n\u001b[1;32m    927\u001b[0m             \u001b[0;32mor\u001b[0m \u001b[0;34m[\u001b[0m\u001b[0mn_samples\u001b[0m\u001b[0;34m,\u001b[0m \u001b[0mn_samples\u001b[0m\u001b[0;34m]\u001b[0m \u001b[0;32mif\u001b[0m \u001b[0mmetric\u001b[0m\u001b[0;34m=\u001b[0m\u001b[0;34m'precomputed'\u001b[0m\u001b[0;34m.\u001b[0m\u001b[0;34m\u001b[0m\u001b[0;34m\u001b[0m\u001b[0m\n\u001b[1;32m    928\u001b[0m         \"\"\"\n\u001b[0;32m--> 929\u001b[0;31m         \u001b[0;32mreturn\u001b[0m \u001b[0mself\u001b[0m\u001b[0;34m.\u001b[0m\u001b[0m_fit\u001b[0m\u001b[0;34m(\u001b[0m\u001b[0mX\u001b[0m\u001b[0;34m)\u001b[0m\u001b[0;34m\u001b[0m\u001b[0;34m\u001b[0m\u001b[0m\n\u001b[0m",
      "\u001b[0;32m/data/rsg/nlp/rmwu/miniconda3/envs/py37/lib/python3.7/site-packages/sklearn/neighbors/base.py\u001b[0m in \u001b[0;36m_fit\u001b[0;34m(self, X)\u001b[0m\n\u001b[1;32m    252\u001b[0m             self._tree = BallTree(X, self.leaf_size,\n\u001b[1;32m    253\u001b[0m                                   \u001b[0mmetric\u001b[0m\u001b[0;34m=\u001b[0m\u001b[0mself\u001b[0m\u001b[0;34m.\u001b[0m\u001b[0meffective_metric_\u001b[0m\u001b[0;34m,\u001b[0m\u001b[0;34m\u001b[0m\u001b[0;34m\u001b[0m\u001b[0m\n\u001b[0;32m--> 254\u001b[0;31m                                   **self.effective_metric_params_)\n\u001b[0m\u001b[1;32m    255\u001b[0m         \u001b[0;32melif\u001b[0m \u001b[0mself\u001b[0m\u001b[0;34m.\u001b[0m\u001b[0m_fit_method\u001b[0m \u001b[0;34m==\u001b[0m \u001b[0;34m'kd_tree'\u001b[0m\u001b[0;34m:\u001b[0m\u001b[0;34m\u001b[0m\u001b[0;34m\u001b[0m\u001b[0m\n\u001b[1;32m    256\u001b[0m             self._tree = KDTree(X, self.leaf_size,\n",
      "\u001b[0;31mKeyboardInterrupt\u001b[0m: "
     ]
    }
   ],
   "source": [
    "syn_dict = synonyms(classes, ordered_embs, ordered_top_embs)\n",
    "pd.DataFrame(syn_dict)"
   ]
  },
  {
   "cell_type": "code",
   "execution_count": 29,
   "metadata": {},
   "outputs": [
    {
     "data": {
      "text/plain": [
       "{'politics': ['⁃', 'that', '提舉司', 'bloffwitch', '民盟'],\n",
       " 'wellness': ['that', 'even', 'really', 'actually', 'but'],\n",
       " 'entertainment': ['bones+longing',\n",
       "  '༺།།ༀ་ཨཱཿ་ཧཱུྃ།།འཚེར།།།།སར་ཝ་མང་ག་ལམ།།༻',\n",
       "  'girlfriend/fiancee',\n",
       "  'bloffwitch',\n",
       "  'errtime'],\n",
       " 'travel': ['⁃', '∈ℝ', 'but', '◩', 'that'],\n",
       " 'beauty': ['༺།།ༀ་ཨཱཿ་ཧཱུྃ།།འཚེར།།།།སར་ཝ་མང་ག་ལམ།།༻',\n",
       "  'simplyfying',\n",
       "  '⁃',\n",
       "  'simplying',\n",
       "  'walk…'],\n",
       " 'parenting': ['really',\n",
       "  'actually',\n",
       "  'that',\n",
       "  'even',\n",
       "  '༺།།ༀ་ཨཱཿ་ཧཱུྃ།།འཚེར།།།།སར་ཝ་མང་ག་ལམ།།༻'],\n",
       " 'healthy': ['that', 'but', 'even', 'people—especially', 'actually'],\n",
       " 'queer': ['⁃',\n",
       "  '平和を願い真の国益を考え靖国神社参拝を支持する若手国会議員の会',\n",
       "  '༺།།ༀ་ཨཱཿ་ཧཱུྃ།།འཚེར།།།།སར་ཝ་མང་ག་ལམ།།༻',\n",
       "  'that',\n",
       "  '∈ℝ'],\n",
       " 'food': ['morenoodles',\n",
       "  'buttered',\n",
       "  'appetizing',\n",
       "  'appetising',\n",
       "  'steakburgers'],\n",
       " 'business': ['⁃', 'that', '∈ℝ', 'even', 'but'],\n",
       " 'comedy': ['༺།།ༀ་ཨཱཿ་ཧཱུྃ།།འཚེར།།།།སར་ཝ་མང་ག་ལམ།།༻',\n",
       "  'bloffwitch',\n",
       "  'bones+longing',\n",
       "  'blitzgiving',\n",
       "  'swezzle'],\n",
       " 'sports': ['⁃',\n",
       "  '民盟',\n",
       "  '༺།།ༀ་ཨཱཿ་ཧཱུྃ།།འཚེར།།།།སར་ཝ་མང་ག་ལམ།།༻',\n",
       "  'team—he',\n",
       "  'blitzgiving'],\n",
       " 'black': ['⁃',\n",
       "  '平和を願い真の国益を考え靖国神社参拝を支持する若手国会議員の会',\n",
       "  '༺།།ༀ་ཨཱཿ་ཧཱུྃ།།འཚེར།།།།སར་ཝ་མང་ག་ལམ།།༻',\n",
       "  '∈ℝ',\n",
       "  'ironically'],\n",
       " 'home': ['⁃', 'simplyfying', '◩', '∈ℝ', 'walk…'],\n",
       " 'parents': ['really',\n",
       "  'that',\n",
       "  '༺།།ༀ་ཨཱཿ་ཧཱུྃ།།འཚེར།།།།སར་ཝ་མང་ག་ལམ།།༻',\n",
       "  'actually',\n",
       "  'telling'],\n",
       " 'the worldpost': ['民盟', '⁃', '提舉司', '平和を願い真の国益を考え靖国神社参拝を支持する若手国会議員の会', '∈ℝ'],\n",
       " 'weddings': ['really', 'actually', 'but', 'that', 'something'],\n",
       " 'women': ['⁃',\n",
       "  'that',\n",
       "  '༺།།ༀ་ཨཱཿ་ཧཱུྃ།།འཚེར།།།།སར་ཝ་མང་ག་ལམ།།༻',\n",
       "  '平和を願い真の国益を考え靖国神社参拝を支持する若手国会議員の会',\n",
       "  '∈ℝ'],\n",
       " 'impact': ['⁃', 'people—especially', 'that', '∈ℝ', 'and'],\n",
       " 'divorce': ['that', 'but', 'really', 'actually', 'even'],\n",
       " 'crime': ['suspects', 'carjacking', 'mugging', 'murdering', 'carjackers'],\n",
       " 'media': ['⁃',\n",
       "  '༺།།ༀ་ཨཱཿ་ཧཱུྃ།།འཚེར།།།།སར་ཝ་མང་ག་ལམ།།༻',\n",
       "  '◩',\n",
       "  'that',\n",
       "  'ironically'],\n",
       " 'weird': ['bones+longing', 'actually', 'trip…', '⁃', 'but'],\n",
       " 'green': ['⁃', '∈ℝ', 'and', 'that', '民盟'],\n",
       " 'worldpost': ['民盟',\n",
       "  '平和を願い真の国益を考え靖国神社参拝を支持する若手国会議員の会',\n",
       "  '⁃',\n",
       "  'palesitnian',\n",
       "  'however,during'],\n",
       " 'religion': ['平和を願い真の国益を考え靖国神社参拝を支持する若手国会議員の会',\n",
       "  'people—especially',\n",
       "  'that',\n",
       "  '∈ℝ',\n",
       "  'beliefs,'],\n",
       " 'style': ['༺།།ༀ་ཨཱཿ་ཧཱུྃ།།འཚེར།།།།སར་ཝ་མང་ག་ལམ།།༻',\n",
       "  'that',\n",
       "  'everyonce',\n",
       "  'simplyfying',\n",
       "  '⁃'],\n",
       " 'science': ['∈ℝ', 'actually', 'that', 'even', 'but'],\n",
       " 'worldnews': ['民盟',\n",
       "  '⁃',\n",
       "  '平和を願い真の国益を考え靖国神社参拝を支持する若手国会議員の会',\n",
       "  '提舉司',\n",
       "  'palesitnian'],\n",
       " 'taste': ['morenoodles',\n",
       "  'buttered',\n",
       "  'appetizing',\n",
       "  'appetising',\n",
       "  'steakburgers'],\n",
       " 'tech': ['⁃', '∈ℝ', 'that', 'actually', '◩'],\n",
       " 'money': ['⁃', '∈ℝ', 'that', 'expemption', 'outlaying'],\n",
       " 'arts': ['⁃',\n",
       "  '平和を願い真の国益を考え靖国神社参拝を支持する若手国会議員の会',\n",
       "  'and',\n",
       "  '∈ℝ',\n",
       "  'bones+longing'],\n",
       " 'fifty': ['that', 'but', 'actually', 'really', 'even'],\n",
       " 'goodnews': ['bones+longing', 'girlfriendless', 'blitzgiving', '⁃', 'but'],\n",
       " 'arts & culture': ['平和を願い真の国益を考え靖国神社参拝を支持する若手国会議員の会',\n",
       "  '༺།།ༀ་ཨཱཿ་ཧཱུྃ།།འཚེར།།།།སར་ཝ་མང་ག་ལམ།།༻',\n",
       "  '∈ℝ',\n",
       "  '⁃',\n",
       "  'bones+longing'],\n",
       " 'environment': ['⁃', '∈ℝ', 'and', '☾', 'that'],\n",
       " 'college': ['⁃', '平和を願い真の国益を考え靖国神社参拝を支持する若手国会議員の会', '文學院', '∈ℝ', '提舉司'],\n",
       " 'latino': ['༺།།ༀ་ཨཱཿ་ཧཱུྃ།།འཚེར།།།།སར་ཝ་མང་ག་ལམ།།༻',\n",
       "  '平和を願い真の国益を考え靖国神社参拝を支持する若手国会議員の会',\n",
       "  '⁃',\n",
       "  'people—especially',\n",
       "  'inti+quila'],\n",
       " 'culture & arts': ['⁃',\n",
       "  'bones+longing',\n",
       "  '平和を願い真の国益を考え靖国神社参拝を支持する若手国会議員の会',\n",
       "  'and',\n",
       "  '༺།།ༀ་ཨཱཿ་ཧཱུྃ།།འཚེར།།།།སར་ཝ་མང་ག་ལམ།།༻'],\n",
       " 'education': ['⁃',\n",
       "  '文學院',\n",
       "  'learning—ranging',\n",
       "  '∈ℝ',\n",
       "  '平和を願い真の国益を考え靖国神社参拝を支持する若手国会議員の会']}"
      ]
     },
     "execution_count": 29,
     "metadata": {},
     "output_type": "execute_result"
    }
   ],
   "source": [
    "syn_dict_1 = {}\n",
    "for key in syn_dict:\n",
    "    syn_dict_1[classes[key]] = syn_dict[key]\n",
    "    \n",
    "syn_dict_1"
   ]
  },
  {
   "cell_type": "code",
   "execution_count": 24,
   "metadata": {},
   "outputs": [
    {
     "name": "stdout",
     "output_type": "stream",
     "text": [
      "['politics', 'wellness', 'entertainment', 'travel', 'beauty', 'parenting', 'healthy', 'queer', 'food', 'business', 'comedy', 'sports', 'black', 'home', 'parents', 'worldpost', 'weddings', 'women', 'impact', 'divorce', 'crime', 'media', 'weird', 'green', 'religion', 'style', 'science', 'worldnews', 'taste', 'tech', 'money', 'arts', 'fifty', 'goodnews', 'culture', 'environment', 'college', 'latino', 'education']\n"
     ]
    }
   ],
   "source": [
    "print(list(syn_dict.keys()))"
   ]
  },
  {
   "cell_type": "markdown",
   "metadata": {},
   "source": [
    "## Caching Human-Understandable Synonyms"
   ]
  },
  {
   "cell_type": "markdown",
   "metadata": {},
   "source": [
    "Where \"synonym\" refers to similar words thematically."
   ]
  },
  {
   "cell_type": "code",
   "execution_count": 86,
   "metadata": {},
   "outputs": [],
   "source": [
    "# Good synonyms: include all keywords from og 20news title\n",
    "sample_synonyms = [\n",
    "    ['mideast', 'saudi', 'opec', 'arab', 'politics'],\n",
    "    ['space', 'astronomy', 'cosmology', 'science', 'planet'],\n",
    "    ['sale', 'resale', 'purchase', 'buy', 'market'],\n",
    "    ['politics', 'government', 'policy', 'talk', 'campaign'],\n",
    "    ['graphics', 'computer', 'image', 'png', 'visuals'],\n",
    "    ['cryptography', 'cybersecurity', 'primes', 'cryptanalysis', 'science'],\n",
    "    ['windows', 'microsoft', 'ten', 'computer', 'version'],\n",
    "    ['microsoft', 'os', 'computer', 'windows', 'software'],\n",
    "    ['guns', 'talk', 'politics', 'firearm', 'weapon'],\n",
    "    ['religion', 'talk', 'belief', 'god', 'philosophy'],\n",
    "    ['autos', 'recreation', 'car', 'vehicle', 'drive'],\n",
    "    ['medicine', 'science', 'doctor', 'pharmaceutical', 'disease'],\n",
    "    ['mac', 'computer', 'system', 'hardware', 'apple'],\n",
    "    ['electronics', 'science', 'digital', 'devices', 'technology'],\n",
    "    ['hockey', 'sport', 'recreation', 'skating', 'ice'],\n",
    "    ['atheism', 'alternative', 'agnosticism', 'apatheism', 'areligious'],\n",
    "    ['motorcycles', 'recreation', 'motorbike', 'scooter', 'moped'],\n",
    "    ['pc', 'ibm', 'hardware', 'system', 'computer'],\n",
    "    ['baseball', 'sport', 'rec', 'mlb', 'softball'],\n",
    "    ['christian', 'religion', 'society', 'catholic', 'protestant']\n",
    "]"
   ]
  },
  {
   "cell_type": "code",
   "execution_count": 53,
   "metadata": {},
   "outputs": [
    {
     "data": {
      "text/plain": [
       "41"
      ]
     },
     "execution_count": 53,
     "metadata": {},
     "output_type": "execute_result"
    }
   ],
   "source": [
    "syns_hpost = [['politics', 'policy', 'government', 'diplomacy', 'legislature'], \n",
    "              ['wellness', 'health', 'wellbeing', 'fitness', 'relaxation'], \n",
    "              ['entertainment', 'media', 'celebrities', 'leisure', 'hollywood'], \n",
    "              ['travel', 'voyage', 'touring', 'globetrotting', 'trip'], \n",
    "              ['beauty', 'makeup', 'style', 'glamour', 'skincare'], \n",
    "              ['parenting', 'kids', 'family', 'discipline', 'childrearing'], \n",
    "              ['healthy', 'living', 'fitness', 'diet', 'nutrition'], \n",
    "              ['queer', 'lgbtq', 'gay', 'trans', 'sexuality'], \n",
    "              ['food', 'cooking', 'recipe', 'nutrition', 'kitchen'], \n",
    "              ['business', 'corporation', 'employment', 'entrepreneur', 'shop'], \n",
    "              ['comedy', 'humor', 'entertainment', 'funny', 'satire'], \n",
    "              ['sports', 'teams', 'athlete', 'fitness', 'competition'], \n",
    "              ['black', 'africanamerican', 'afroamerican', 'minority', 'race'], \n",
    "              ['home', 'house', 'family', 'residence', 'household'], \n",
    "              ['parents', 'parenting', 'elderly', 'mother', 'father'], \n",
    "              ['worldpost', 'international', 'news', 'world', 'huffingtonpost'], \n",
    "              ['weddings', 'marriage', 'newlywed', 'ceremony', 'bride'], \n",
    "              ['women', 'female', 'girl', 'feminism', 'lady'], \n",
    "              ['impact', 'effect', 'influence', 'movements', 'outcome'], \n",
    "              ['divorce', 'annulment', 'separation', 'breakup', 'adultery'], \n",
    "              ['crime', 'violence', 'felony', 'misdemeanour', 'offense'], \n",
    "              ['media', 'entertainment', 'reporter', 'journalism', 'news'], \n",
    "              ['weird', 'odd', 'strange', 'unexpected', 'abnormal'], \n",
    "              ['green', 'environment', 'nature', 'animals', 'habitat'], \n",
    "              ['worldpost', 'international', 'news', 'world', 'huffingtonpost'], \n",
    "              ['religion', 'christianity', 'islam', 'judaism', 'beliefs'], \n",
    "              ['style', 'fashion', 'skincare', 'clothes', 'haircare'], \n",
    "              ['science', 'experiments', 'discovery', 'technology', 'research'], \n",
    "              ['worldnews', 'world', 'news', 'international', 'countries'], \n",
    "              ['taste', 'recipes', 'cooking', 'cookware', 'kitchen'], \n",
    "              ['tech', 'technology', 'software', 'siliconvalley', 'internet'], \n",
    "              ['money', 'investing', 'finance', 'wealth', 'spending'], \n",
    "              ['arts', 'painting', 'dance', 'drawing', 'music'], \n",
    "              ['fifty', 'elderly', 'older', 'seniors', 'boomer'], \n",
    "              ['goodnews', 'positive', 'optimistic', 'feelgood', 'happy'], \n",
    "              ['culture', 'subculture', 'dance', 'society', 'music'], # arts and culture\n",
    "              ['environment', 'sustainability', 'conservation', 'ecology', 'climate'], \n",
    "              ['college', 'tuition', 'university', 'degree', 'undergraduate'], \n",
    "              ['latino', 'hispanic', 'spanish', 'minority', 'race'], \n",
    "              ['culture', 'subculture', 'dance', 'society', 'music'], \n",
    "              ['education', 'scholarship', 'teaching', 'school', 'learning']\n",
    "             ]\n",
    "len(syns_hpost)"
   ]
  },
  {
   "cell_type": "code",
   "execution_count": 55,
   "metadata": {},
   "outputs": [
    {
     "data": {
      "text/html": [
       "<div>\n",
       "<style scoped>\n",
       "    .dataframe tbody tr th:only-of-type {\n",
       "        vertical-align: middle;\n",
       "    }\n",
       "\n",
       "    .dataframe tbody tr th {\n",
       "        vertical-align: top;\n",
       "    }\n",
       "\n",
       "    .dataframe thead th {\n",
       "        text-align: right;\n",
       "    }\n",
       "</style>\n",
       "<table border=\"1\" class=\"dataframe\">\n",
       "  <thead>\n",
       "    <tr style=\"text-align: right;\">\n",
       "      <th></th>\n",
       "      <th>politics</th>\n",
       "      <th>wellness</th>\n",
       "      <th>entertainment</th>\n",
       "      <th>travel</th>\n",
       "      <th>beauty</th>\n",
       "      <th>parenting</th>\n",
       "      <th>healthy</th>\n",
       "      <th>queer</th>\n",
       "      <th>food</th>\n",
       "      <th>business</th>\n",
       "      <th>...</th>\n",
       "      <th>tech</th>\n",
       "      <th>money</th>\n",
       "      <th>arts</th>\n",
       "      <th>fifty</th>\n",
       "      <th>goodnews</th>\n",
       "      <th>culture</th>\n",
       "      <th>environment</th>\n",
       "      <th>college</th>\n",
       "      <th>latino</th>\n",
       "      <th>education</th>\n",
       "    </tr>\n",
       "  </thead>\n",
       "  <tbody>\n",
       "    <tr>\n",
       "      <th>0</th>\n",
       "      <td>politics</td>\n",
       "      <td>wellness</td>\n",
       "      <td>entertainment</td>\n",
       "      <td>travel</td>\n",
       "      <td>beauty</td>\n",
       "      <td>parenting</td>\n",
       "      <td>healthy</td>\n",
       "      <td>queer</td>\n",
       "      <td>food</td>\n",
       "      <td>business</td>\n",
       "      <td>...</td>\n",
       "      <td>tech</td>\n",
       "      <td>money</td>\n",
       "      <td>arts</td>\n",
       "      <td>fifty</td>\n",
       "      <td>goodnews</td>\n",
       "      <td>culture</td>\n",
       "      <td>environment</td>\n",
       "      <td>college</td>\n",
       "      <td>latino</td>\n",
       "      <td>education</td>\n",
       "    </tr>\n",
       "    <tr>\n",
       "      <th>1</th>\n",
       "      <td>policy</td>\n",
       "      <td>health</td>\n",
       "      <td>media</td>\n",
       "      <td>voyage</td>\n",
       "      <td>makeup</td>\n",
       "      <td>kids</td>\n",
       "      <td>living</td>\n",
       "      <td>lgbtq</td>\n",
       "      <td>cooking</td>\n",
       "      <td>corporation</td>\n",
       "      <td>...</td>\n",
       "      <td>technology</td>\n",
       "      <td>investing</td>\n",
       "      <td>culture</td>\n",
       "      <td>elderly</td>\n",
       "      <td>positive</td>\n",
       "      <td>culture</td>\n",
       "      <td>sustainability</td>\n",
       "      <td>tuition</td>\n",
       "      <td>hispanic</td>\n",
       "      <td>scholarship</td>\n",
       "    </tr>\n",
       "    <tr>\n",
       "      <th>2</th>\n",
       "      <td>government</td>\n",
       "      <td>wellbeing</td>\n",
       "      <td>celebrities</td>\n",
       "      <td>touring</td>\n",
       "      <td>style</td>\n",
       "      <td>family</td>\n",
       "      <td>fitness</td>\n",
       "      <td>gay</td>\n",
       "      <td>recipe</td>\n",
       "      <td>employment</td>\n",
       "      <td>...</td>\n",
       "      <td>software</td>\n",
       "      <td>finance</td>\n",
       "      <td>dance</td>\n",
       "      <td>older</td>\n",
       "      <td>optimistic</td>\n",
       "      <td>dance</td>\n",
       "      <td>conservation</td>\n",
       "      <td>university</td>\n",
       "      <td>spanish</td>\n",
       "      <td>teaching</td>\n",
       "    </tr>\n",
       "    <tr>\n",
       "      <th>3</th>\n",
       "      <td>diplomacy</td>\n",
       "      <td>fitness</td>\n",
       "      <td>leisure</td>\n",
       "      <td>globetrotting</td>\n",
       "      <td>glamour</td>\n",
       "      <td>discipline</td>\n",
       "      <td>diet</td>\n",
       "      <td>trans</td>\n",
       "      <td>nutrition</td>\n",
       "      <td>entrepreneur</td>\n",
       "      <td>...</td>\n",
       "      <td>siliconvalley</td>\n",
       "      <td>wealth</td>\n",
       "      <td>society</td>\n",
       "      <td>seniors</td>\n",
       "      <td>feelgood</td>\n",
       "      <td>society</td>\n",
       "      <td>ecology</td>\n",
       "      <td>degree</td>\n",
       "      <td>minority</td>\n",
       "      <td>school</td>\n",
       "    </tr>\n",
       "    <tr>\n",
       "      <th>4</th>\n",
       "      <td>legislature</td>\n",
       "      <td>relaxation</td>\n",
       "      <td>hollywood</td>\n",
       "      <td>trip</td>\n",
       "      <td>skincare</td>\n",
       "      <td>childrearing</td>\n",
       "      <td>nutrition</td>\n",
       "      <td>sexuality</td>\n",
       "      <td>kitchen</td>\n",
       "      <td>shop</td>\n",
       "      <td>...</td>\n",
       "      <td>internet</td>\n",
       "      <td>spending</td>\n",
       "      <td>music</td>\n",
       "      <td>boomer</td>\n",
       "      <td>happy</td>\n",
       "      <td>music</td>\n",
       "      <td>climate</td>\n",
       "      <td>undergraduate</td>\n",
       "      <td>race</td>\n",
       "      <td>learning</td>\n",
       "    </tr>\n",
       "  </tbody>\n",
       "</table>\n",
       "<p>5 rows × 39 columns</p>\n",
       "</div>"
      ],
      "text/plain": [
       "      politics    wellness  entertainment         travel    beauty  \\\n",
       "0     politics    wellness  entertainment         travel    beauty   \n",
       "1       policy      health          media         voyage    makeup   \n",
       "2   government   wellbeing    celebrities        touring     style   \n",
       "3    diplomacy     fitness        leisure  globetrotting   glamour   \n",
       "4  legislature  relaxation      hollywood           trip  skincare   \n",
       "\n",
       "      parenting    healthy      queer       food      business  ...  \\\n",
       "0     parenting    healthy      queer       food      business  ...   \n",
       "1          kids     living      lgbtq    cooking   corporation  ...   \n",
       "2        family    fitness        gay     recipe    employment  ...   \n",
       "3    discipline       diet      trans  nutrition  entrepreneur  ...   \n",
       "4  childrearing  nutrition  sexuality    kitchen          shop  ...   \n",
       "\n",
       "            tech      money     arts    fifty    goodnews  culture  \\\n",
       "0           tech      money     arts    fifty    goodnews  culture   \n",
       "1     technology  investing  culture  elderly    positive  culture   \n",
       "2       software    finance    dance    older  optimistic    dance   \n",
       "3  siliconvalley     wealth  society  seniors    feelgood  society   \n",
       "4       internet   spending    music   boomer       happy    music   \n",
       "\n",
       "      environment        college    latino    education  \n",
       "0     environment        college    latino    education  \n",
       "1  sustainability        tuition  hispanic  scholarship  \n",
       "2    conservation     university   spanish     teaching  \n",
       "3         ecology         degree  minority       school  \n",
       "4         climate  undergraduate      race     learning  \n",
       "\n",
       "[5 rows x 39 columns]"
      ]
     },
     "execution_count": 55,
     "metadata": {},
     "output_type": "execute_result"
    }
   ],
   "source": [
    "unique_classes = [syns[0] for syns in syns_hpost]\n",
    "assert unique_classes == classes\n",
    "\n",
    "syn_dict2 = dict(zip(classes, syns_hpost))\n",
    "pd.DataFrame(syn_dict2)"
   ]
  },
  {
   "cell_type": "code",
   "execution_count": 58,
   "metadata": {},
   "outputs": [
    {
     "data": {
      "text/plain": [
       "{'politics': ['politics', 'policy', 'government', 'diplomacy', 'legislature'],\n",
       " 'wellness': ['wellness', 'health', 'wellbeing', 'fitness', 'relaxation'],\n",
       " 'entertainment': ['entertainment',\n",
       "  'media',\n",
       "  'celebrities',\n",
       "  'leisure',\n",
       "  'hollywood'],\n",
       " 'travel': ['travel', 'voyage', 'touring', 'globetrotting', 'trip'],\n",
       " 'beauty': ['beauty', 'makeup', 'style', 'glamour', 'skincare'],\n",
       " 'parenting': ['parenting', 'kids', 'family', 'discipline', 'childrearing'],\n",
       " 'healthy': ['healthy', 'living', 'fitness', 'diet', 'nutrition'],\n",
       " 'queer': ['queer', 'lgbtq', 'gay', 'trans', 'sexuality'],\n",
       " 'food': ['food', 'cooking', 'recipe', 'nutrition', 'kitchen'],\n",
       " 'business': ['business', 'corporation', 'employment', 'entrepreneur', 'shop'],\n",
       " 'comedy': ['comedy', 'humor', 'entertainment', 'funny', 'satire'],\n",
       " 'sports': ['sports', 'teams', 'athlete', 'fitness', 'competition'],\n",
       " 'black': ['black', 'africanamerican', 'afroamerican', 'minority', 'race'],\n",
       " 'home': ['home', 'house', 'family', 'residence', 'household'],\n",
       " 'parents': ['parents', 'parenting', 'elderly', 'mother', 'father'],\n",
       " 'worldpost': ['worldpost',\n",
       "  'international',\n",
       "  'news',\n",
       "  'world',\n",
       "  'huffingtonpost'],\n",
       " 'weddings': ['weddings', 'marriage', 'newlywed', 'ceremony', 'bride'],\n",
       " 'women': ['women', 'female', 'girl', 'feminism', 'lady'],\n",
       " 'impact': ['impact', 'effect', 'influence', 'movements', 'outcome'],\n",
       " 'divorce': ['divorce', 'annulment', 'separation', 'breakup', 'adultery'],\n",
       " 'crime': ['crime', 'violence', 'felony', 'misdemeanour', 'offense'],\n",
       " 'media': ['media', 'entertainment', 'reporter', 'journalism', 'news'],\n",
       " 'weird': ['weird', 'odd', 'strange', 'unexpected', 'abnormal'],\n",
       " 'green': ['green', 'environment', 'nature', 'animals', 'habitat'],\n",
       " 'religion': ['religion', 'christianity', 'islam', 'judaism', 'beliefs'],\n",
       " 'style': ['style', 'fashion', 'skincare', 'clothes', 'haircare'],\n",
       " 'science': ['science', 'experiments', 'discovery', 'technology', 'research'],\n",
       " 'worldnews': ['worldnews', 'world', 'news', 'international', 'countries'],\n",
       " 'taste': ['taste', 'recipes', 'cooking', 'cookware', 'kitchen'],\n",
       " 'tech': ['tech', 'technology', 'software', 'siliconvalley', 'internet'],\n",
       " 'money': ['money', 'investing', 'finance', 'wealth', 'spending'],\n",
       " 'arts': ['arts', 'culture', 'dance', 'society', 'music'],\n",
       " 'fifty': ['fifty', 'elderly', 'older', 'seniors', 'boomer'],\n",
       " 'goodnews': ['goodnews', 'positive', 'optimistic', 'feelgood', 'happy'],\n",
       " 'culture': ['culture', 'culture', 'dance', 'society', 'music'],\n",
       " 'environment': ['environment',\n",
       "  'sustainability',\n",
       "  'conservation',\n",
       "  'ecology',\n",
       "  'climate'],\n",
       " 'college': ['college', 'tuition', 'university', 'degree', 'undergraduate'],\n",
       " 'latino': ['latino', 'hispanic', 'spanish', 'minority', 'race'],\n",
       " 'education': ['education', 'scholarship', 'teaching', 'school', 'learning']}"
      ]
     },
     "execution_count": 58,
     "metadata": {},
     "output_type": "execute_result"
    }
   ],
   "source": [
    "syn_dict2"
   ]
  },
  {
   "cell_type": "code",
   "execution_count": 56,
   "metadata": {},
   "outputs": [],
   "source": [
    "def cache_syn_dict(classes, dict_to_cache, dest):\n",
    "    \"\"\"\n",
    "    Caches dict of synonyms as {topic index: list of list of embeddings} to dest (str).\n",
    "    \"\"\"\n",
    "    d = {}\n",
    "    for i, topic in enumerate(classes):\n",
    "        syns = dict_to_cache[topic]\n",
    "        d[i] = [mappings[syn] for syn in syns]\n",
    "        \n",
    "    with open(dest, 'w') as json_file:\n",
    "        json.dump(d, json_file)\n",
    "    \n",
    "    print('done caching')"
   ]
  },
  {
   "cell_type": "code",
   "execution_count": 57,
   "metadata": {},
   "outputs": [
    {
     "name": "stdout",
     "output_type": "stream",
     "text": [
      "done caching\n"
     ]
    }
   ],
   "source": [
    "cache_syn_dict(classes, syn_dict2, '../cached_embeds/huffpost_topic_embed_synonyms2_.json') "
   ]
  },
  {
   "cell_type": "code",
   "execution_count": null,
   "metadata": {},
   "outputs": [],
   "source": []
  }
 ],
 "metadata": {
  "kernelspec": {
   "display_name": "Python 3",
   "language": "python",
   "name": "python3"
  },
  "language_info": {
   "codemirror_mode": {
    "name": "ipython",
    "version": 3
   },
   "file_extension": ".py",
   "mimetype": "text/x-python",
   "name": "python",
   "nbconvert_exporter": "python",
   "pygments_lexer": "ipython3",
   "version": "3.7.3"
  }
 },
 "nbformat": 4,
 "nbformat_minor": 2
}
